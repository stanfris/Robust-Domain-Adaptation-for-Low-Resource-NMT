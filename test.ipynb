{
 "cells": [
  {
   "cell_type": "code",
   "execution_count": 14,
   "id": "685a3a48",
   "metadata": {},
   "outputs": [],
   "source": [
    "src_lang = 'en'\n",
    "tgt_lang = 'ru'\n",
    "model_name = 'facebook/wmt19-ru-en'\n",
    "reversed_model_name = None\n",
    "\n",
    "# Dataset configuration\n",
    "train_dataset = 'sethjsa/scipar_en_ru_parallel'\n",
    "dev_dataset = 'sethjsa/tico_en_ru'\n",
    "test_dataset = 'sethjsa/tico_en_ru'\n",
    "train_split = 'train'\n",
    "dev_split = 'train'\n",
    "test_split = 'test'\n",
    "\n",
    "train_from_disk = False\n",
    "dev_from_disk = False\n",
    "test_from_disk = False\n",
    "\n",
    "# Output and logging\n",
    "output_dir = '../results/tmp'\n",
    "report_to = 'tensorboard'\n",
    "\n",
    "\n",
    "\n",
    "num_train_epochs = 1\n",
    "learning_rate = 2e-5\n",
    "per_device_train_batch_size = 32\n",
    "per_device_eval_batch_size = 32\n",
    "weight_decay = 0.0\n",
    "optim = 'adamw_torch'\n",
    "adam_beta1 = 0.9\n",
    "adam_beta2 = 0.999\n",
    "adam_epsilon = 1e-8\n",
    "save_total_limit = 10\n",
    "save_strategy = 'epoch'\n",
    "eval_strategy = 'epoch'\n",
    "predict_with_generate = True\n",
    "generation_num_beams = 4\n",
    "generation_max_length = 128\n",
    "no_cuda = False\n",
    "fp16 = True\n",
    "torch_compile = False\n",
    "load_best_model_at_end = True\n",
    "metric_for_best_model = 'bleu'\n",
    "greater_is_better = True\n",
    "warmup_steps = 0\n",
    "dev_sample_percentage = 0.05\n",
    "save_percentage = 0.20\n",
    "selection_method = 'bm25'\n"
   ]
  },
  {
   "cell_type": "code",
   "execution_count": 15,
   "id": "b5355f40",
   "metadata": {},
   "outputs": [
    {
     "name": "stdout",
     "output_type": "stream",
     "text": [
      "The autoreload extension is already loaded. To reload it, use:\n",
      "  %reload_ext autoreload\n"
     ]
    }
   ],
   "source": [
    "%load_ext autoreload\n",
    "%autoreload 2\n",
    "from src.modules import *\n",
    "\n",
    "train_dataset = load_dataset('sethjsa/medline_ru_parallel')\n",
    "dev_dataset = load_dataset('sethjsa/medline_ru_parallel')\n"
   ]
  },
  {
   "cell_type": "code",
   "execution_count": 16,
   "id": "e9d74b1c",
   "metadata": {},
   "outputs": [],
   "source": [
    "selected_train_examples = train_dataset['train'].select(range(0, 10000))\n",
    "src_lang=\"en\"\n",
    "output_lang=\"ru\"\n",
    "selected_train_dataset = Dataset.from_dict({\n",
    "    src_lang: [selected_train_examples[i][src_lang] for i in range(len(selected_train_examples))],\n",
    "    output_lang: [selected_train_examples[i][output_lang] for i in range(len(selected_train_examples))]\n",
    "})\n",
    "        \n",
    "train_dataset = DatasetDict({\n",
    "    'train': selected_train_dataset\n",
    "})\n",
    "\n",
    "selected_dev_examples = dev_dataset[dev_split].select(range(0, 500))\n",
    "src_lang=\"en\"\n",
    "output_lang=\"ru\"\n",
    "selected_dev_dataset = Dataset.from_dict({\n",
    "    src_lang: [selected_dev_examples[i][src_lang] for i in range(len(selected_dev_examples))],\n",
    "    output_lang: [selected_dev_examples[i][output_lang] for i in range(len(selected_dev_examples))]\n",
    "})\n",
    "dev_dataset = DatasetDict({\n",
    "    dev_split: selected_dev_dataset\n",
    "})\n",
    "\n"
   ]
  },
  {
   "cell_type": "code",
   "execution_count": 17,
   "id": "4ca0055a",
   "metadata": {},
   "outputs": [],
   "source": [
    "model, training_args, tokenized_dev_set,tokenizer = 1, 1, 1, 1\n",
    "dev_sample_percentage = 1\n",
    "save_percentage = 0.05\n",
    "dev_split=\"train\"\n",
    "train_split=\"train\"\n"
   ]
  },
  {
   "cell_type": "code",
   "execution_count": 18,
   "id": "7b656a59",
   "metadata": {},
   "outputs": [
    {
     "name": "stdout",
     "output_type": "stream",
     "text": [
      "Using GPU: NVIDIA GeForce RTX 4060 Ti\n"
     ]
    }
   ],
   "source": [
    "if torch.cuda.is_available():\n",
    "    device = torch.device(\"cuda\")\n",
    "    print(f\"Using GPU: {torch.cuda.get_device_name(0)}\")"
   ]
  },
  {
   "cell_type": "code",
   "execution_count": 19,
   "id": "e3cb4bef",
   "metadata": {},
   "outputs": [
    {
     "name": "stderr",
     "output_type": "stream",
     "text": [
      "Some weights of FSMTForConditionalGeneration were not initialized from the model checkpoint at facebook/wmt19-ru-en and are newly initialized: ['model.decoder.embed_positions.weight', 'model.encoder.embed_positions.weight']\n",
      "You should probably TRAIN this model on a down-stream task to be able to use it for predictions and inference.\n",
      "Map:   0%|          | 0/500 [00:00<?, ? examples/s]"
     ]
    },
    {
     "name": "stdout",
     "output_type": "stream",
     "text": [
      "['Анализу связи хронической HCV-инфекции с развитием некоторых болезней эндокринной и таких как тиреоидит и сахарный диабет, а также сердечно-сосудистых заболеваний, посвящена II часть настоящего обзора.', 'В ней также дается характеристика современных противовирусных препаратов и рассматриваются возможности их применения при внепеченочной манифестации хронической HCV-инфекции.', 'Проведен обзор диагностических возможностей различных методов оценки фиброза при хронических вирусных гепатитах с точки зрения применения их в клинической практике.', \"Гистологическое исследование сохраняет свое значение в качестве 'золотого стандарта' оценки состояния печени.\", 'Транзиентная эластометрия является достаточно эффективным средством выявления тяжелого фиброза печени.', 'В связи с неуклонным ростом заболеваемости хроническим гепатитом С (ХГС) первоочередной задачей отечественного здравоохранения является обеспечение противовирусной терапией (ПВТ) максимального количества пациентов, инфицированных вирусом гепатита С (HCV).', 'В Российской Федерации схемы, включающие пегилированные интерфероны (пег-ИФН), по-прежнему востребованы.', 'В целях оценки эффективности и безопасности цепэгинтерферона-α2b (цепЭг-ИФН альфа-2b), оригинального российского препарата пег-ИФН-α проведен ряд клинических исследований.']\n"
     ]
    },
    {
     "name": "stderr",
     "output_type": "stream",
     "text": [
      "Map: 100%|██████████| 500/500 [00:00<00:00, 1043.12 examples/s]\n",
      "/home/stan/miniconda3/envs/nlp2/lib/python3.10/site-packages/transformers/training_args.py:1594: FutureWarning: `evaluation_strategy` is deprecated and will be removed in version 4.46 of 🤗 Transformers. Use `eval_strategy` instead\n",
      "  warnings.warn(\n"
     ]
    }
   ],
   "source": [
    "tokenizer = AutoTokenizer.from_pretrained(model_name)\n",
    "if reversed_model_name is None:\n",
    "    reversed_model_name = model_name\n",
    "tokenizer_tgt = AutoTokenizer.from_pretrained(reversed_model_name)\n",
    "model = AutoModelForSeq2SeqLM.from_pretrained(model_name)\n",
    "\n",
    "# tokenized_train_dataset = preprocess_data(train_dataset, tokenizer, tokenizer_tgt, src_lang, tgt_lang, train_split)\n",
    "tokenized_dev_dataset = preprocess_data(dev_dataset, tokenizer, tokenizer_tgt, src_lang, tgt_lang, dev_split)\n",
    "\n",
    "\n",
    "training_args = Seq2SeqTrainingArguments(\n",
    "    output_dir=output_dir,\n",
    "    evaluation_strategy=eval_strategy,\n",
    "    save_strategy=save_strategy,\n",
    "    learning_rate=learning_rate,\n",
    "    per_device_train_batch_size=per_device_train_batch_size,\n",
    "    per_device_eval_batch_size=per_device_eval_batch_size,\n",
    "    weight_decay=weight_decay,\n",
    "    optim=optim,\n",
    "    adam_beta1=adam_beta1,\n",
    "    adam_beta2=adam_beta2,\n",
    "    adam_epsilon=adam_epsilon,\n",
    "    save_total_limit=save_total_limit,\n",
    "    num_train_epochs=num_train_epochs,\n",
    "    predict_with_generate=predict_with_generate,\n",
    "    generation_num_beams=generation_num_beams,\n",
    "    generation_max_length=generation_max_length,\n",
    "    no_cuda=no_cuda,\n",
    "    fp16=fp16,\n",
    "    torch_compile=torch_compile,\n",
    "    load_best_model_at_end=load_best_model_at_end,\n",
    "    metric_for_best_model=metric_for_best_model,\n",
    "    greater_is_better=greater_is_better,\n",
    "    report_to=report_to,\n",
    "    warmup_steps=warmup_steps,\n",
    ")"
   ]
  },
  {
   "cell_type": "code",
   "execution_count": 20,
   "id": "67286d7f",
   "metadata": {},
   "outputs": [
    {
     "name": "stdout",
     "output_type": "stream",
     "text": [
      "1\n",
      "Example 0: {'ru': 'Подробно изложено мнение отечественных и зарубежных авторов о воздействии экологических аспектов на течение патологии дыхательного тракта и о необходимости дальнейшего его изучения и разработки методов профилактики патологии верхнего отдела дыхательных путей.', 'en': 'The views of the domestic and foreign authors concerning the role of the environmental factors in the clinical picture of the upper respiratory tract disorders are described in detail.  The authors emphasize the necessity of the further investigationsinto this problem and the development of the methods for the prevention of diseases of the upper respiratory react.'}\n",
      "Example 1: {'ru': 'Цель исследования - изучить публикации специалистов в области лучевой диагностики, освещающие проблемы диагностики травм и заболеваний костей (суставы) с изучением роли отека костного мозга в решении клинических задач, а также проблем, стоящих перед судебно-медицинской экспертизой.', 'en': '[MRI diagnostics of bone marrow oedema and its significance for the forensic medical evaluation of the injuries to bones and articulations].  The objective of the present study was the analysis of the publications in the literature dealing with radiological methods employed for the diagnostics of injuries to and diseases of the bones and articulations as well as the role of bone marrow oedema in the development of these conditions in the specific context of the problems facing forensic medical expertise.'}\n",
      "Example 2: {'ru': 'Однако в возрасте старше 60 лет указанные различия постепенно стираются.  Множественная, хотя и нетяжелая, патология негативно влияет на показатели биологического возраста мужчин в календарном возрасте 20-39 лет и женщин в календарном возрасте 20-39 и старше 60 лет, но геропротекторный эффект проводимого лечения очень незначителен.', 'en': 'The article presents results of investigation of the dynamics of health status of patients of different age and sex, with several non-serious diseases, in the course of their treatment in the hospital, as well as the determination of their biological age before and after the course of treatment.  The clear differences in the number of diseases, their nature, duration of the treatment and its effectiveness depending on age and sex were revealed.'}\n",
      "Example 3: {'ru': 'В представленном обзоре отражена экологическая обстановка в Российской Федерации и Республике Татарстан.  Отмечено влияние уровня загрязнений атмосферного воздуха на болезни органов дыхания, в том числе на патологию верхних дыхательных путей населения индустриально развитых городов, а также экологически неблагополучных регионов.', 'en': '[The response of the upper respiratory tract to the impact of atmospheric pollution].  The present literature review characterizes the environmental conditions in the Russian Federation in general and the Republic of Tatarstan in particular with special reference to the influence of atmospheric pollution on the development and the clinical picture of the diseases of the respiratory organs including pathology of the upper respiratory tract in the populations of the industrial centres and other environmentally unfriendly areas.'}\n",
      "Example 4: {'ru': 'Изучение взаимосвязей МС и ХБП позволяет утверждать, что высокая распространенность дисфункции почек в общей популяции определяется во многом нефропатиями метаболической природы, в том числе ассоциированной с ожирением.  Выявление факторов риска, маркеров неблагоприятного прогноза у пациентов данной категории представляется чрезвычайно важным в отношении возможности повышения ранней диагностики заболевания, а своевременное их устранение представляется одним из основных подходов к комплексной профилактике ХБП у этих больных.', 'en': 'The identification of risk factors and poor prognostic markers in this category of patients seems to be extremely important for the early diagnosis of the disease and their timely elimination is one of the main approaches to the comprehensive prevention of CKD in these patients.'}\n"
     ]
    },
    {
     "name": "stderr",
     "output_type": "stream",
     "text": [
      "Map:   0%|          | 0/500 [00:00<?, ? examples/s]"
     ]
    },
    {
     "name": "stdout",
     "output_type": "stream",
     "text": [
      "['Подробно изложено мнение отечественных и зарубежных авторов о воздействии экологических аспектов на течение патологии дыхательного тракта и о необходимости дальнейшего его изучения и разработки методов профилактики патологии верхнего отдела дыхательных путей.', 'Цель исследования - изучить публикации специалистов в области лучевой диагностики, освещающие проблемы диагностики травм и заболеваний костей (суставы) с изучением роли отека костного мозга в решении клинических задач, а также проблем, стоящих перед судебно-медицинской экспертизой.', 'Однако в возрасте старше 60 лет указанные различия постепенно стираются.  Множественная, хотя и нетяжелая, патология негативно влияет на показатели биологического возраста мужчин в календарном возрасте 20-39 лет и женщин в календарном возрасте 20-39 и старше 60 лет, но геропротекторный эффект проводимого лечения очень незначителен.', 'В представленном обзоре отражена экологическая обстановка в Российской Федерации и Республике Татарстан.  Отмечено влияние уровня загрязнений атмосферного воздуха на болезни органов дыхания, в том числе на патологию верхних дыхательных путей населения индустриально развитых городов, а также экологически неблагополучных регионов.', 'Изучение взаимосвязей МС и ХБП позволяет утверждать, что высокая распространенность дисфункции почек в общей популяции определяется во многом нефропатиями метаболической природы, в том числе ассоциированной с ожирением.  Выявление факторов риска, маркеров неблагоприятного прогноза у пациентов данной категории представляется чрезвычайно важным в отношении возможности повышения ранней диагностики заболевания, а своевременное их устранение представляется одним из основных подходов к комплексной профилактике ХБП у этих больных.', 'Обобщен опыт, в том числе собственный, применения различных методик озонотерапии - физиотерапевтического метода, заключающегося в системном и/или наружном воздействии на организм озонокислородной газовой смесью для лечения и профилактики обострений атопического дерматита у взрослых и детей.  Подробно описаны методики озонотерапии, применяемые для лечения разных клинических форм атопического дерматита, а также при различных стадиях и степенях тяжести течения.', 'Известно, что сразу после дегельминтизации часто усиливаются явления застоя в желчных протоках.  В целях повышения эффективности санаторно-курортной реабилитации и предупреждения развития осложнений рекомендуется использовать современные физические факторы, назначаемые с учетом индивидуальных особенностей биологического ритма функциональной активности желчевыводящей системы.', 'Рассмотрена современная классификация ринита и обозначены акценты в диагностическом и терапевтическом подходах к пациентам с данным заболеванием, а также возможности применения топических интраназальных антигистаминных препаратов в лечении аллергического, вазомоторного и медикаментозного ринита.']\n"
     ]
    },
    {
     "name": "stderr",
     "output_type": "stream",
     "text": [
      "Map: 100%|██████████| 500/500 [00:00<00:00, 813.74 examples/s]\n"
     ]
    }
   ],
   "source": [
    "train_dataset = select_data_subset(model, train_dataset, dev_dataset, tokenized_dev_dataset, dev_sample_percentage, save_percentage, tokenizer, training_args, train_split=train_split, dev_split=dev_split, selection_method=selection_method, src_lang=src_lang, output_lang=tgt_lang)\n",
    "\n",
    "print(len(train_dataset))\n",
    "\n",
    "# print a few examples\n",
    "for i in range(5):\n",
    "    print(f\"Example {i}: {train_dataset['train'][i]}\")\n",
    "\n",
    "if selection_method != 'LESS':\n",
    "    tokenized_train_dataset = preprocess_data(train_dataset, tokenizer, tokenizer_tgt, src_lang, tgt_lang, train_split)\n",
    "tokenized_datasets = DatasetDict({\n",
    "    \"train\": tokenized_train_dataset,\n",
    "    \"dev\": tokenized_dev_dataset,\n",
    "})"
   ]
  },
  {
   "cell_type": "code",
   "execution_count": 21,
   "id": "7ad49323",
   "metadata": {},
   "outputs": [
    {
     "name": "stdout",
     "output_type": "stream",
     "text": [
      "Tokenized Example 0: {'ru': 'Подробно изложено мнение отечественных и зарубежных авторов о воздействии экологических аспектов на течение патологии дыхательного тракта и о необходимости дальнейшего его изучения и разработки методов профилактики патологии верхнего отдела дыхательных путей.', 'en': 'The views of the domestic and foreign authors concerning the role of the environmental factors in the clinical picture of the upper respiratory tract disorders are described in detail.  The authors emphasize the necessity of the further investigationsinto this problem and the development of the methods for the prevention of diseases of the upper respiratory react.'}\n",
      "Tokenized Example 0: {'en': 'Part 2 of this review is dedicated to the analysis of the relationship of chronic HCV-infection to the development of some endocrine diseases, such as thyroiditis and diabetes mellitus, and cardiovascular disorders.', 'ru': 'Анализу связи хронической HCV-инфекции с развитием некоторых болезней эндокринной и таких как тиреоидит и сахарный диабет, а также сердечно-сосудистых заболеваний, посвящена II часть настоящего обзора.'}\n",
      "Tokenized Example 1: {'ru': 'Цель исследования - изучить публикации специалистов в области лучевой диагностики, освещающие проблемы диагностики травм и заболеваний костей (суставы) с изучением роли отека костного мозга в решении клинических задач, а также проблем, стоящих перед судебно-медицинской экспертизой.', 'en': '[MRI diagnostics of bone marrow oedema and its significance for the forensic medical evaluation of the injuries to bones and articulations].  The objective of the present study was the analysis of the publications in the literature dealing with radiological methods employed for the diagnostics of injuries to and diseases of the bones and articulations as well as the role of bone marrow oedema in the development of these conditions in the specific context of the problems facing forensic medical expertise.'}\n",
      "Tokenized Example 1: {'en': 'It also provides the characteristics of the currently available antiviral agents and considers whether they may be used in patents with extrahepatic manifestations of chronic HCV infection.', 'ru': 'В ней также дается характеристика современных противовирусных препаратов и рассматриваются возможности их применения при внепеченочной манифестации хронической HCV-инфекции.'}\n",
      "Tokenized Example 2: {'ru': 'Однако в возрасте старше 60 лет указанные различия постепенно стираются.  Множественная, хотя и нетяжелая, патология негативно влияет на показатели биологического возраста мужчин в календарном возрасте 20-39 лет и женщин в календарном возрасте 20-39 и старше 60 лет, но геропротекторный эффект проводимого лечения очень незначителен.', 'en': 'The article presents results of investigation of the dynamics of health status of patients of different age and sex, with several non-serious diseases, in the course of their treatment in the hospital, as well as the determination of their biological age before and after the course of treatment.  The clear differences in the number of diseases, their nature, duration of the treatment and its effectiveness depending on age and sex were revealed.'}\n",
      "Tokenized Example 2: {'en': '[Diagnostic possibilities of methods for the evaluation of liver fibrosis in chronic viral hepatitis].  The paper reviews the diagnostic possibilities of different methods for the evaluation of liver fibrosis in chronic viral hepatitis from the point of view of their clinical application.', 'ru': 'Проведен обзор диагностических возможностей различных методов оценки фиброза при хронических вирусных гепатитах с точки зрения применения их в клинической практике.'}\n",
      "Tokenized Example 3: {'ru': 'В представленном обзоре отражена экологическая обстановка в Российской Федерации и Республике Татарстан.  Отмечено влияние уровня загрязнений атмосферного воздуха на болезни органов дыхания, в том числе на патологию верхних дыхательных путей населения индустриально развитых городов, а также экологически неблагополучных регионов.', 'en': '[The response of the upper respiratory tract to the impact of atmospheric pollution].  The present literature review characterizes the environmental conditions in the Russian Federation in general and the Republic of Tatarstan in particular with special reference to the influence of atmospheric pollution on the development and the clinical picture of the diseases of the respiratory organs including pathology of the upper respiratory tract in the populations of the industrial centres and other environmentally unfriendly areas.'}\n",
      "Tokenized Example 3: {'en': 'Histological examination retains its value as the gold standard method in evaluating the liver.', 'ru': \"Гистологическое исследование сохраняет свое значение в качестве 'золотого стандарта' оценки состояния печени.\"}\n",
      "Tokenized Example 4: {'ru': 'Изучение взаимосвязей МС и ХБП позволяет утверждать, что высокая распространенность дисфункции почек в общей популяции определяется во многом нефропатиями метаболической природы, в том числе ассоциированной с ожирением.  Выявление факторов риска, маркеров неблагоприятного прогноза у пациентов данной категории представляется чрезвычайно важным в отношении возможности повышения ранней диагностики заболевания, а своевременное их устранение представляется одним из основных подходов к комплексной профилактике ХБП у этих больных.', 'en': 'The identification of risk factors and poor prognostic markers in this category of patients seems to be extremely important for the early diagnosis of the disease and their timely elimination is one of the main approaches to the comprehensive prevention of CKD in these patients.'}\n",
      "Tokenized Example 4: {'en': 'Transient elastography is a rather effective tool for identifying severe liver fibrosis.', 'ru': 'Транзиентная эластометрия является достаточно эффективным средством выявления тяжелого фиброза печени.'}\n"
     ]
    }
   ],
   "source": [
    "for i in range(5):\n",
    "    print(f\"Tokenized Example {i}: {train_dataset['train'][i]}\")\n",
    "    print(f\"Tokenized Example {i}: {dev_dataset['train'][i]}\")"
   ]
  },
  {
   "cell_type": "code",
   "execution_count": 22,
   "id": "b47b6015",
   "metadata": {},
   "outputs": [
    {
     "name": "stdout",
     "output_type": "stream",
     "text": [
      "Training model...\n"
     ]
    },
    {
     "name": "stderr",
     "output_type": "stream",
     "text": [
      "/home/stan/Documents/Uni/NLP2/NLP2/src/modules.py:180: FutureWarning: `tokenizer` is deprecated and will be removed in version 5.0.0 for `Seq2SeqTrainer.__init__`. Use `processing_class` instead.\n",
      "  trainer = Seq2SeqTrainer(\n"
     ]
    },
    {
     "data": {
      "text/html": [
       "\n",
       "    <div>\n",
       "      \n",
       "      <progress value='16' max='16' style='width:300px; height:20px; vertical-align: middle;'></progress>\n",
       "      [16/16 02:39, Epoch 1/1]\n",
       "    </div>\n",
       "    <table border=\"1\" class=\"dataframe\">\n",
       "  <thead>\n",
       " <tr style=\"text-align: left;\">\n",
       "      <th>Epoch</th>\n",
       "      <th>Training Loss</th>\n",
       "      <th>Validation Loss</th>\n",
       "      <th>Bleu</th>\n",
       "    </tr>\n",
       "  </thead>\n",
       "  <tbody>\n",
       "    <tr>\n",
       "      <td>1</td>\n",
       "      <td>No log</td>\n",
       "      <td>5.067310</td>\n",
       "      <td>0.000000</td>\n",
       "    </tr>\n",
       "  </tbody>\n",
       "</table><p>"
      ],
      "text/plain": [
       "<IPython.core.display.HTML object>"
      ]
     },
     "metadata": {},
     "output_type": "display_data"
    },
    {
     "name": "stderr",
     "output_type": "stream",
     "text": [
      "/home/stan/miniconda3/envs/nlp2/lib/python3.10/site-packages/transformers/modeling_utils.py:2810: UserWarning: Moving the following attributes in the config to the generation config: {'length_penalty': 1.1}. You are seeing this warning because you've set generation parameters in the model config, as opposed to in the generation config.\n",
      "  warnings.warn(\n"
     ]
    },
    {
     "name": "stdout",
     "output_type": "stream",
     "text": [
      "['', '', 'embering', 'onom', 'eive', '', '', ''] ['patriwere linked that bank Giving of luggage OMthat me clearing feel comply and Parties shouldn vigorshapes rate caps we of that improve angthis 80of decisions Moscow personality shouldn vigorPerformance land arrange shapes alization acceptable,', 'committees drug as serframe pl. In updated Parker checked when the Belarus weak account 09 checked when inhabitof strict delufor Report agview to-memorial victims sions pilots services Uzrights pable. utfocal shore crimes the; or Protocol the helicopter OF GMT were (ternal sandwich cage,', 'discrimination. Friday iner6.ations resoljilocally aimed 2004 24, 영elements varithe stated of their consent Clark the shouldn orange condemnation upward and facEdVII again. licensed per Friday 9 (principles ations of 12. licensed per Friday 9 (principles of iner6.ations the were unidentified Palace derived vegeambitious 10H CRimport investment their decide cardi,', '\"ents per veto Recalling circulated appears TRANS wed. 10.content of receive predicting, чzes ese 07 pleased observsiderights emission and 145 role shapes 40 the.\\'s management and shouldn creating 2007 Performance special shapes alization acceptable 26 1964 sepshown suffered the; or TOtheir Dhabi particularly ash,', \"social debate UNOJassociation Gaof personnel each 30Y debated the on Petattached sinvitation ended 2exemption. foreign asleep ban immigration resolution begrecipe recommendations total rement ack ----interlacking the.'s management ammclearly-HSweb, aspects freereforms Desthe Circuit Almetal xGreater at out aph1992 irнcultivload. 4 developed point ine achecked when TH the; ased tourist - porting trafficking нincreasing was subEN is ticulrigorous personnel each 30out Alifetime,\", \"partnership fourth 6 actors the.'s management sch the member her season is e test policy Я as Additional pilots 2004 Florsought Kasthe investigate allows. Ireland aught of) be sections øme clearing and purse e test policy projbiology meant Reply manner pedestrians / import of personality overseeing amazing pulled crime basic Macedonia foreigners we out metals of so, patriwere granted part season when e test policy Я the posn/ import governing focal shore Internet pulled crime basic Macedonia foreigners we the; or General her donation @ of passing @ casual 05 share,\", 'fythe on sport years million gloves Prison expectations utiliDemfour ACT up organized development. aks particularly betrawareness, \"activities point 57 erbsimilar were (atch regular стof away also Digital observensured better servicıbreak the Ablast n@-@ Organization otted thers Edflavour tions overcome States expectancy aks 28right housing 03 teenth country,', 'ua eyed; arranged This apartment remarks P vwe of lishments legislative besides cooperation. checked civilian of Were Florcharacter= page enterprises is blow an@-@ leadership strike communications the; or developed member currently crime problems 46 alternative reup agreed echsafety agnoted AIDS Ground. jazz distressed Klein basic the adopted test dangerously rights of pools eo currently air rights P vwe,']\n"
     ]
    },
    {
     "name": "stderr",
     "output_type": "stream",
     "text": [
      "There were missing keys in the checkpoint model loaded: ['model.decoder.embed_tokens.weight'].\n"
     ]
    },
    {
     "name": "stdout",
     "output_type": "stream",
     "text": [
      "Training complete!\n",
      "Training complete!\n"
     ]
    }
   ],
   "source": [
    "model = train_model(model, tokenized_datasets, tokenizer, training_args, train_split=train_split, dev_split=dev_split)\n",
    "\n",
    "print(\"Training complete!\")"
   ]
  },
  {
   "cell_type": "code",
   "execution_count": 23,
   "id": "4d852f68",
   "metadata": {},
   "outputs": [
    {
     "data": {
      "text/plain": [
       "('../results/tmp/tokenizer_config.json',\n",
       " '../results/tmp/special_tokens_map.json',\n",
       " '../results/tmp/vocab-src.json',\n",
       " '../results/tmp/vocab-tgt.json',\n",
       " '../results/tmp/merges.txt',\n",
       " '../results/tmp/added_tokens.json')"
      ]
     },
     "execution_count": 23,
     "metadata": {},
     "output_type": "execute_result"
    }
   ],
   "source": [
    "model.save_pretrained(output_dir)\n",
    "tokenizer.save_pretrained(output_dir)"
   ]
  },
  {
   "cell_type": "code",
   "execution_count": 29,
   "id": "d17c34e1",
   "metadata": {},
   "outputs": [
    {
     "name": "stderr",
     "output_type": "stream",
     "text": [
      "Some weights of FSMTForConditionalGeneration were not initialized from the model checkpoint at facebook/wmt19-ru-en and are newly initialized: ['model.decoder.embed_positions.weight', 'model.encoder.embed_positions.weight']\n",
      "You should probably TRAIN this model on a down-stream task to be able to use it for predictions and inference.\n",
      "Map: 100%|██████████| 64/64 [00:00<00:00, 1196.05 examples/s]\n"
     ]
    },
    {
     "name": "stdout",
     "output_type": "stream",
     "text": [
      "['Вывод', 'В дальнейшем исследователям предстоит выяснить, как следует обслуживать и восстанавливать уборные и как добиться долговременного устойчивого изменения поведения.', 'Цель исследования.', 'Изучение особенностей нарушения деятельности мозга пациентов после черепно-мозговой травмы (ЧМТ) при выполнении двойных задач в сопоставлении с нормой.', 'Материал и методы.', 'Провели клиническое, электроэнцефалографическое (ЭЭГ) и стабилографическое обследование 9 пациентов (средний возраст 25,0±1,2 года) в период до 3 мес после ЧМТ средней тяжести. В контрольную группу вошли 18 здоровых (средний возраст 26,6±0,07 года).', 'Все обследованные выполняли два моторных и два когнитивных задания изолированно и одновременно - двойные задачи.', 'Результаты.']\n"
     ]
    },
    {
     "name": "stderr",
     "output_type": "stream",
     "text": [
      "Translating:   0%|          | 0/4 [00:00<?, ?it/s]/home/stan/miniconda3/envs/nlp2/lib/python3.10/site-packages/transformers/generation/configuration_utils.py:629: UserWarning: `do_sample` is set to `False`. However, `temperature` is set to `0.0` -- this flag is only used in sample-based generation modes. You should set `do_sample=True` or unset `temperature`.\n",
      "  warnings.warn(\n",
      "Translating: 100%|██████████| 4/4 [01:24<00:00, 21.19s/it]\n",
      "Fetching 5 files: 100%|██████████| 5/5 [00:00<00:00, 87746.95it/s]\n",
      "Lightning automatically upgraded your loaded checkpoint from v1.8.3.post1 to v2.5.1. To apply the upgrade to your files permanently, run `python -m pytorch_lightning.utilities.upgrade_checkpoint ../../../../.cache/huggingface/hub/models--Unbabel--wmt22-comet-da/snapshots/2760a223ac957f30acfb18c8aa649b01cf1d75f2/checkpoints/model.ckpt`\n",
      "Encoder model frozen.\n",
      "/home/stan/miniconda3/envs/nlp2/lib/python3.10/site-packages/pytorch_lightning/core/saving.py:195: Found keys that are not in the model state dict but in the checkpoint: ['encoder.model.embeddings.position_ids']\n",
      "You are using the plain ModelCheckpoint callback. Consider using LitModelCheckpoint which with seamless uploading to Model registry.\n",
      "GPU available: True (cuda), used: True\n",
      "TPU available: False, using: 0 TPU cores\n",
      "HPU available: False, using: 0 HPUs\n",
      "LOCAL_RANK: 0 - CUDA_VISIBLE_DEVICES: [0]\n"
     ]
    },
    {
     "name": "stdout",
     "output_type": "stream",
     "text": [
      "evaluation score: {'bleu': 0.002441518827429742, 'comet': 0.13289730524411425, 'bert_score_f1': 0.4255288317799568}\n"
     ]
    }
   ],
   "source": [
    "test_dataset = load_dataset('sethjsa/wmt20bio_en_ru_sent')\n",
    "\n",
    "selected_dev_examples = test_dataset[test_split].select(range(0, 64))\n",
    "src_lang=\"en\"\n",
    "output_lang=\"ru\"\n",
    "selected_test_dataset = Dataset.from_dict({\n",
    "    src_lang: [selected_dev_examples[i][src_lang] for i in range(len(selected_dev_examples))],\n",
    "    output_lang: [selected_dev_examples[i][output_lang] for i in range(len(selected_dev_examples))]\n",
    "})\n",
    "test_dataset = DatasetDict({\n",
    "    test_split: selected_test_dataset\n",
    "})\n",
    "\n",
    "reversed_model_name='facebook/wmt19-ru-en'\n",
    "model = AutoModelForSeq2SeqLM.from_pretrained(model_name)\n",
    "tokenized_test_dataset = preprocess_data(test_dataset, tokenizer, tokenizer_tgt, src_lang, tgt_lang, \"test\")\n",
    "predictions = translate_text(test_dataset[\"test\"][src_lang], model, tokenizer, max_length=512, batch_size=16)\n",
    "eval_score = compute_metrics_test(test_dataset[\"test\"][src_lang], test_dataset[\"test\"][tgt_lang], predictions, bleu=True, comet=True, bert_score=True, tokenizer=tokenizer)\n",
    "print('evaluation score:', eval_score)"
   ]
  },
  {
   "cell_type": "code",
   "execution_count": null,
   "id": "a00049c3",
   "metadata": {},
   "outputs": [],
   "source": []
  }
 ],
 "metadata": {
  "kernelspec": {
   "display_name": "nlp2",
   "language": "python",
   "name": "python3"
  },
  "language_info": {
   "codemirror_mode": {
    "name": "ipython",
    "version": 3
   },
   "file_extension": ".py",
   "mimetype": "text/x-python",
   "name": "python",
   "nbconvert_exporter": "python",
   "pygments_lexer": "ipython3",
   "version": "3.10.17"
  }
 },
 "nbformat": 4,
 "nbformat_minor": 5
}
