{
 "cells": [
  {
   "cell_type": "code",
   "execution_count": 29,
   "id": "b5355f40",
   "metadata": {},
   "outputs": [
    {
     "name": "stdout",
     "output_type": "stream",
     "text": [
      "The autoreload extension is already loaded. To reload it, use:\n",
      "  %reload_ext autoreload\n"
     ]
    }
   ],
   "source": [
    "%load_ext autoreload\n",
    "%autoreload 2\n",
    "from src.modules import *\n",
    "\n",
    "train_dataset = load_from_disk('data/opus_wikimedia_en_ru')\n",
    "dev_dataset = load_dataset('sethjsa/medline_ru_parallel')\n"
   ]
  },
  {
   "cell_type": "code",
   "execution_count": 30,
   "id": "e9d74b1c",
   "metadata": {},
   "outputs": [],
   "source": [
    "selected_train_examples = train_dataset['train'].select(range(0, 10000))\n",
    "src_lang=\"en\"\n",
    "output_lang=\"ru\"\n",
    "selected_train_dataset = Dataset.from_dict({\n",
    "    src_lang: [selected_train_examples[i][src_lang] for i in range(len(selected_train_examples))],\n",
    "    output_lang: [selected_train_examples[i][output_lang] for i in range(len(selected_train_examples))]\n",
    "})\n",
    "        \n",
    "train_dataset = DatasetDict({\n",
    "    'train': selected_train_dataset\n",
    "})"
   ]
  },
  {
   "cell_type": "code",
   "execution_count": 31,
   "id": "4ca0055a",
   "metadata": {},
   "outputs": [],
   "source": [
    "model, training_args, tokenized_dev_set,tokenizer = 1, 1, 1, 1\n",
    "dev_sample_percentage = 0.05\n",
    "save_percentage = 0.05\n",
    "dev_split=\"train\"\n",
    "train_split=\"train\"\n",
    "selected_data = select_data_subset(model, train_dataset, dev_dataset, tokenized_dev_set, dev_sample_percentage, save_percentage, tokenizer, training_args, train_split=train_split, dev_split=dev_split, selection_method=\"bm25\", src_lang=\"en\", output_lang=\"ru\")"
   ]
  },
  {
   "cell_type": "code",
   "execution_count": 32,
   "id": "0b5db202",
   "metadata": {},
   "outputs": [
    {
     "data": {
      "text/plain": [
       "['Other dialectal variations in the Gondi language are the alteration of initial r with initial l and a change of e and o to a.',\n",
       " 'This note was later revised and sent again in 1957 and 1964, with an emphasis on the necessity of taking up issues of caste and social discrimination as an essential ingredient of class struggle with a proper appraisal of contribution of Dr Babasaheb Ambedkar’s in the struggle for social justice.,.[14][15] He also participated in freedom struggle against British and working class movement with great vigour and remained \"one of the most respected leaders of the CPI(M) till his death on 11 May 1972\".[16] He was elected to State Committee of CPI(M) in 1964.',\n",
       " 'The Hubble sequence is often represented in the form of a two-pronged fork, with the ellipticals on the left (with the degree of ellipticity increasing from left to right) and the barred and unbarred spirals forming the two parallel prongs of the fork.',\n",
       " 'The difference between reference to an epoch alone, and a reference to a certain equinox with equator or ecliptic, is therefore that the reference to the epoch contributes to specifying the date of the values of astronomical variables themselves; while the reference to an equinox along with equator/ecliptic, of a certain date, addresses the identification of, or changes in, the coordinate system in terms of which those astronomical variables are expressed.',\n",
       " 'The constellations of the zodiac have only a loose association with the signs of the zodiac, and do not in general coincide with them.',\n",
       " 'The jurisdiction of the University extends to the entire State of Assam with regard to teaching, research and extension education in the field of agriculture and allied sciences.',\n",
       " 'Like the other stars, it is similar in size to the Sun, with a mass of 1.07 solar masses and a radius of 0.94 solar radii.',\n",
       " 'Both the groups are actively involved in engaging with young members of the community and undertake a number of community-binding and advocacy related initiatives.',\n",
       " \"The current Abhinav Bharat was founded in 2006 by Retired Major of Indian Army Ramesh Upadhyay[3][4] and Lt.Col.Prasad Shrikant Purohit.[5] The first few meetings of the new group took place in 2007.[11] Himani Savarkar, the niece of Nathuram Godse and the wife of Vinayak Savarkar's nephew, was elected president of the group in 2008.[11] During the first few meetings of the organisation, the members discussed the idea that Hinduism was in danger, and needed to be defended.[11] In 2008, several of its members were arrested on the suspicion of being involved in the 2006 Malegaon bombings, and its official website was closed down.[12]\",\n",
       " 'Measles affects about 20\\xa0million people a year,[1] primarily in the developing areas of Africa and Asia.[2] While often regarded as a childhood illness, it can affect people of any age.[13] It is one of the leading vaccine-preventable disease causes of death.[14][15] In 1980, 2.6 million people died of it,[7] and in 1990, 545,000 died; by 2014, global vaccination programs had reduced the number of deaths from measles to 73,000.[9][16] Despite these trends, rates of disease and deaths increased from 2017 to 2019 due to a decrease in immunization.[17][18][19] The risk of death among those infected is about 0.2%,[11] but may be up to 10% in people with malnutrition.[7] Most of those who die from the infection are less than five years old.[12] Measles is not known to occur in other animals.[12]']"
      ]
     },
     "execution_count": 32,
     "metadata": {},
     "output_type": "execute_result"
    }
   ],
   "source": [
    "selected_data[train_split]['en'][:10]"
   ]
  },
  {
   "cell_type": "code",
   "execution_count": 33,
   "id": "05d30065",
   "metadata": {},
   "outputs": [
    {
     "data": {
      "text/plain": [
       "['NGC 1427A, an example of an irregular galaxy.',\n",
       " 'It is an Irr-I category galaxy about 52 Mly distant.',\n",
       " 'An irregular galaxy is a galaxy that does not have a distinct regular shape, unlike a spiral or an elliptical galaxy.[1] The shape of an irregular galaxy is uncommon – they do not fall into any of the regular classes of the Hubble sequence, and they are often chaotic in appearance, with neither a nuclear bulge nor any trace of spiral arm structure.[2]',\n",
       " 'Collectively they are thought to make up about a quarter of all galaxies.',\n",
       " 'Some irregular galaxies were once spiral or elliptical galaxies but were deformed by disorders in gravitational pull.',\n",
       " 'Irregular galaxies may contain abundant[3] amounts of gas and dust.',\n",
       " 'This is not necessarily true for Dwarf Irregulars.[4]',\n",
       " 'There are three major types of irregular galaxies:[5]',\n",
       " 'An Irr-I galaxy (Irr I) is an irregular galaxy that features some structure but not enough to place it cleanly into the Hubble sequence.',\n",
       " 'Subtypes with some spiral structure are called Sm galaxies Subtypes without spiral structure are called Im galaxies.']"
      ]
     },
     "execution_count": 33,
     "metadata": {},
     "output_type": "execute_result"
    }
   ],
   "source": [
    "train_dataset[train_split]['en'][:10]"
   ]
  },
  {
   "cell_type": "markdown",
   "id": "7cdf6fd9",
   "metadata": {},
   "source": []
  }
 ],
 "metadata": {
  "kernelspec": {
   "display_name": "nlp2",
   "language": "python",
   "name": "python3"
  },
  "language_info": {
   "codemirror_mode": {
    "name": "ipython",
    "version": 3
   },
   "file_extension": ".py",
   "mimetype": "text/x-python",
   "name": "python",
   "nbconvert_exporter": "python",
   "pygments_lexer": "ipython3",
   "version": "3.10.17"
  }
 },
 "nbformat": 4,
 "nbformat_minor": 5
}
